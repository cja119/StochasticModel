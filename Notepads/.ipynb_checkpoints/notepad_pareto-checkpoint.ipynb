{
 "cells": [
  {
   "cell_type": "code",
   "execution_count": 1,
   "metadata": {},
   "outputs": [
    {
     "name": "stdout",
     "output_type": "stream",
     "text": [
      "Current working directory: /rds/general/user/cja119/home/StochasticOperationsModel\n",
      "Gurobi version: Gurobi Optimizer version 9.0.1 build v9.0.1rc0 (linux64)\n",
      "Copyright (c) 2020, Gurobi Optimization, LLC\n",
      "\n"
     ]
    }
   ],
   "source": [
    "import sys\n",
    "import os\n",
    "os.chdir(os.path.dirname(os.getcwd()))\n",
    "print(\"Current working directory:\", os.getcwd())\n",
    "\n",
    "from OptimisationScripts.OptimisationModel import OptimModel\n",
    "from PreOptimisationDataStore.DefaultParameters import Default_Params\n",
    "from StochasticScripts.ParetoFronts import ParetoFront\n",
    "import numpy as np\n",
    "import pandas as pd\n",
    "import matplotlib.pyplot as plt\n",
    "from os import getcwd, chdir, environ, popen,system\n",
    "from dill import dump   \n",
    "from matplotlib import rcParams\n",
    "print(\"Gurobi version:\", popen('gurobi_cl --version').read())\n"
   ]
  },
  {
   "cell_type": "code",
   "execution_count": 1,
   "metadata": {},
   "outputs": [
    {
     "name": "stdout",
     "output_type": "stream",
     "text": [
      "NH3_seed_Wind_Pareto.pickle\n"
     ]
    }
   ],
   "source": [
    "import sys\n",
    "import os\n",
    "os.chdir(os.path.dirname(os.getcwd()))\n",
    "\n",
    "from StochasticScripts.ParetoFronts import ParetoFront\n",
    "\n",
    "ParetoFront.build_fronts('NH3_seed_Wind')\n",
    "\n"
   ]
  },
  {
   "cell_type": "code",
   "execution_count": 2,
   "metadata": {},
   "outputs": [
    {
     "ename": "FileNotFoundError",
     "evalue": "[Errno 2] No such file or directory: 'DataAnalysis/NH3_seed_deterministic_Wind.csv'",
     "output_type": "error",
     "traceback": [
      "\u001b[0;31m---------------------------------------------------------------------------\u001b[0m",
      "\u001b[0;31mFileNotFoundError\u001b[0m                         Traceback (most recent call last)",
      "Cell \u001b[0;32mIn[2], line 5\u001b[0m\n\u001b[1;32m      3\u001b[0m title\u001b[38;5;241m=\u001b[39m\u001b[38;5;124m'\u001b[39m\u001b[38;5;124mNH3_seed_deterministic_Wind.csv\u001b[39m\u001b[38;5;124m'\u001b[39m\n\u001b[1;32m      4\u001b[0m title_2\u001b[38;5;241m=\u001b[39m\u001b[38;5;124m'\u001b[39m\u001b[38;5;124mLH2_seed_deterministic_Wind.csv\u001b[39m\u001b[38;5;124m'\u001b[39m\n\u001b[0;32m----> 5\u001b[0m plot_1 \u001b[38;5;241m=\u001b[39m \u001b[43mParetoFront\u001b[49m\u001b[38;5;241;43m.\u001b[39;49m\u001b[43mplot_pareto_front\u001b[49m\u001b[43m(\u001b[49m\u001b[43mtitle\u001b[49m\u001b[43m,\u001b[49m\u001b[43m \u001b[49m\u001b[43mnormaliser\u001b[49m\u001b[38;5;241;43m=\u001b[39;49m\u001b[43m(\u001b[49m\u001b[38;5;241;43m1\u001b[39;49m\u001b[43m,\u001b[49m\u001b[38;5;241;43m1\u001b[39;49m\u001b[43m)\u001b[49m\u001b[43m,\u001b[49m\u001b[43maspect\u001b[49m\u001b[38;5;241;43m=\u001b[39;49m\u001b[43m(\u001b[49m\u001b[38;5;241;43m7\u001b[39;49m\u001b[43m,\u001b[49m\u001b[38;5;241;43m3\u001b[39;49m\u001b[43m)\u001b[49m\u001b[43m)\u001b[49m\n\u001b[1;32m      6\u001b[0m plot \u001b[38;5;241m=\u001b[39m ParetoFront\u001b[38;5;241m.\u001b[39mplot_pareto_front(title_2, normaliser\u001b[38;5;241m=\u001b[39m(\u001b[38;5;241m1\u001b[39m,\u001b[38;5;241m1\u001b[39m),aspect\u001b[38;5;241m=\u001b[39m(\u001b[38;5;241m7\u001b[39m,\u001b[38;5;241m3\u001b[39m),existing\u001b[38;5;241m=\u001b[39mplot_1)\n\u001b[1;32m      7\u001b[0m   \u001b[38;5;66;03m# Change the aspect ratio here\u001b[39;00m\n",
      "File \u001b[0;32m~/StochasticOperationsModel/StochasticScripts/ParetoFronts.py:113\u001b[0m, in \u001b[0;36mParetoFront.plot_pareto_front\u001b[0;34m(cls, filename, axis_labels, normaliser, times_time, aspect, existing)\u001b[0m\n\u001b[1;32m    111\u001b[0m folder \u001b[38;5;241m=\u001b[39m \u001b[38;5;124m'\u001b[39m\u001b[38;5;124mDataAnalysis\u001b[39m\u001b[38;5;124m'\u001b[39m\n\u001b[1;32m    112\u001b[0m csv_file \u001b[38;5;241m=\u001b[39m os\u001b[38;5;241m.\u001b[39mpath\u001b[38;5;241m.\u001b[39mjoin(folder, filename)\n\u001b[0;32m--> 113\u001b[0m \u001b[38;5;28;01mwith\u001b[39;00m \u001b[38;5;28;43mopen\u001b[39;49m\u001b[43m(\u001b[49m\u001b[43mcsv_file\u001b[49m\u001b[43m,\u001b[49m\u001b[43m \u001b[49m\u001b[43mmode\u001b[49m\u001b[38;5;241;43m=\u001b[39;49m\u001b[38;5;124;43m'\u001b[39;49m\u001b[38;5;124;43mr\u001b[39;49m\u001b[38;5;124;43m'\u001b[39;49m\u001b[43m)\u001b[49m \u001b[38;5;28;01mas\u001b[39;00m file:\n\u001b[1;32m    114\u001b[0m     n_lines \u001b[38;5;241m=\u001b[39m \u001b[38;5;28msum\u001b[39m(\u001b[38;5;241m1\u001b[39m \u001b[38;5;28;01mfor\u001b[39;00m _ \u001b[38;5;129;01min\u001b[39;00m file)\n\u001b[1;32m    115\u001b[0m arrays \u001b[38;5;241m=\u001b[39m [[] \u001b[38;5;28;01mfor\u001b[39;00m _ \u001b[38;5;129;01min\u001b[39;00m \u001b[38;5;28mrange\u001b[39m(n_lines)]\n",
      "\u001b[0;31mFileNotFoundError\u001b[0m: [Errno 2] No such file or directory: 'DataAnalysis/NH3_seed_deterministic_Wind.csv'"
     ]
    }
   ],
   "source": [
    "rcParams['font.family'] = 'serif'\n",
    "rcParams['font.serif'] = ['CMU Serif'] + rcParams['font.serif']\n",
    "title='NH3_seed_deterministic_Wind.csv'\n",
    "title_2='LH2_seed_deterministic_Wind.csv'\n",
    "plot_1 = ParetoFront.plot_pareto_front(title, normaliser=(1,1),aspect=(7,3))\n",
    "plot = ParetoFront.plot_pareto_front(title_2, normaliser=(1,1),aspect=(7,3),existing=plot_1)\n",
    "  # Change the aspect ratio here\n",
    "plot.legend(fontsize=14, loc='lower right')\n",
    "plot.xlabel('Ratio of LCOP to Grid Price', fontsize=14)\n",
    "plot.ylabel('LCOH $/kg', fontsize=14)\n",
    "\n",
    "#plot.title(title[:3]+' Wind Deterministic Dinklebach', fontsize=16)\n",
    "plot.title('')\n",
    "plot.xlim((0,15))\n",
    "plot.ylim((0.8,2.6))\n",
    "\n",
    "#plot.plot([0,20],[0,20], color='grey', linewidth=2, linestyle='--')\n",
    "\n",
    "plot.tick_params(axis='both', which='major', labelsize=14)\n",
    "plot.show()"
   ]
  },
  {
   "cell_type": "markdown",
   "metadata": {},
   "source": [
    "df = pd.read_csv(getcwd() + '/DataAnalysis/NH3Hydrogen_Price_Pareto.csv')"
   ]
  },
  {
   "cell_type": "code",
   "execution_count": 3,
   "metadata": {},
   "outputs": [],
   "source": [
    "means = {}\n",
    "for n in range(2,14):\n",
    "    try:\n",
    "        means[n] = np.mean([float(i) for i in df.iloc[n].values[1:]])\n",
    "    except:\n",
    "        pass"
   ]
  },
  {
   "cell_type": "code",
   "execution_count": null,
   "metadata": {},
   "outputs": [
    {
     "data": {
      "image/png": "[encoded data removed]",
      "text/plain": [
       "<Figure size 640x480 with 1 Axes>"
      ]
     },
     "metadata": {},
     "output_type": "display_data"
    }
   ],
   "source": [
    "plt.plot(means.keys(),means.values())\n",
    "plt.ylim((0,5))\n",
    "plt.xlim((0,15))\n",
    "plt.show()"
   ]
  },
  {
   "cell_type": "code",
   "execution_count": null,
   "metadata": {},
   "outputs": [],
   "source": []
  },
  {
   "cell_type": "code",
   "execution_count": null,
   "metadata": {},
   "outputs": [],
   "source": []
  }
 ],
 "metadata": {
  "kernelspec": {
   "display_name": "Python JupyterKernel",
   "language": "python",
   "name": "jupyterkernel"
  },
  "language_info": {
   "codemirror_mode": {
    "name": "ipython",
    "version": 3
   },
   "file_extension": ".py",
   "mimetype": "text/x-python",
   "name": "python",
   "nbconvert_exporter": "python",
   "pygments_lexer": "ipython3",
   "version": "3.12.4"
  }
 },
 "nbformat": 4,
 "nbformat_minor": 2
}
