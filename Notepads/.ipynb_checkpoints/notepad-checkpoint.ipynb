{
 "cells": [
  {
   "cell_type": "code",
   "execution_count": 3,
   "metadata": {},
   "outputs": [
    {
     "name": "stdout",
     "output_type": "stream",
     "text": [
      "Current working directory: /rds/general/user/cja119/home\n",
      "Gurobi version: Gurobi Optimizer version 9.0.1 build v9.0.1rc0 (linux64)\n",
      "Copyright (c) 2020, Gurobi Optimization, LLC\n",
      "\n"
     ]
    }
   ],
   "source": [
    "import sys\n",
    "import os\n",
    "os.chdir(os.path.dirname(os.getcwd()))\n",
    "print(\"Current working directory:\", os.getcwd())\n",
    "\n",
    "from OptimisationScripts.OptimisationModel import OptimModel\n",
    "from PreOptimisationDataStore.DefaultParameters import Default_Params\n",
    "from StochasticScripts.WeatherSensitivity import get_weather_sensitivity\n",
    "import numpy as np\n",
    "from os import getcwd, chdir, environ, popen,system\n",
    "from dill import dump   \n",
    "print(\"Gurobi version:\", popen('gurobi_cl --version').read())\n"
   ]
  },
  {
   "cell_type": "code",
   "execution_count": 4,
   "metadata": {},
   "outputs": [
    {
     "ename": "TypeError",
     "evalue": "object of type 'int' has no len()",
     "output_type": "error",
     "traceback": [
      "\u001b[0;31m---------------------------------------------------------------------------\u001b[0m",
      "\u001b[0;31mTypeError\u001b[0m                                 Traceback (most recent call last)",
      "Cell \u001b[0;32mIn[4], line 1\u001b[0m\n\u001b[0;32m----> 1\u001b[0m \u001b[43mget_weather_sensitivity\u001b[49m\u001b[43m(\u001b[49m\u001b[38;5;124;43m'\u001b[39;49m\u001b[38;5;124;43mNH3Chile_Locations\u001b[39;49m\u001b[38;5;124;43m'\u001b[39;49m\u001b[43m,\u001b[49m\u001b[38;5;241;43m10\u001b[39;49m\u001b[43m)\u001b[49m\n",
      "File \u001b[0;32m~/StochasticOperationsModel/StochasticScripts/WeatherSensitivity.py:9\u001b[0m, in \u001b[0;36mget_weather_sensitivity\u001b[0;34m(key, n_solve)\u001b[0m\n\u001b[1;32m      7\u001b[0m obj_dict \u001b[38;5;241m=\u001b[39m {}\n\u001b[1;32m      8\u001b[0m \u001b[38;5;28mdir\u001b[39m \u001b[38;5;241m=\u001b[39m getcwd()\n\u001b[0;32m----> 9\u001b[0m \u001b[38;5;28;01mfor\u001b[39;00m count \u001b[38;5;129;01min\u001b[39;00m \u001b[38;5;28mrange\u001b[39m(\u001b[38;5;28;43mlen\u001b[39;49m\u001b[43m(\u001b[49m\u001b[43mn_solve\u001b[49m\u001b[43m)\u001b[49m):\n\u001b[1;32m     10\u001b[0m     chdir(\u001b[38;5;28mdir\u001b[39m)\n\u001b[1;32m     11\u001b[0m     \u001b[38;5;28;01mtry\u001b[39;00m:\n",
      "\u001b[0;31mTypeError\u001b[0m: object of type 'int' has no len()"
     ]
    }
   ],
   "source": [
    "get_weather_sensitivity('NH3Chile_Locations',10)"
   ]
  },
  {
   "cell_type": "code",
   "execution_count": null,
   "metadata": {},
   "outputs": [],
   "source": []
  },
  {
   "cell_type": "code",
   "execution_count": null,
   "metadata": {},
   "outputs": [],
   "source": []
  },
  {
   "cell_type": "code",
   "execution_count": null,
   "metadata": {},
   "outputs": [],
   "source": []
  }
 ],
 "metadata": {
  "kernelspec": {
   "display_name": "Python JupyterKernel",
   "language": "python",
   "name": "jupyterkernel"
  },
  "language_info": {
   "codemirror_mode": {
    "name": "ipython",
    "version": 3
   },
   "file_extension": ".py",
   "mimetype": "text/x-python",
   "name": "python",
   "nbconvert_exporter": "python",
   "pygments_lexer": "ipython3",
   "version": "3.12.4"
  }
 },
 "nbformat": 4,
 "nbformat_minor": 2
}
